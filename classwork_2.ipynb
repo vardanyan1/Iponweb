{
 "cells": [
  {
   "cell_type": "markdown",
   "id": "0fdaebee",
   "metadata": {},
   "source": [
    "Task 1"
   ]
  },
  {
   "cell_type": "code",
   "execution_count": 5,
   "id": "86df24af",
   "metadata": {},
   "outputs": [
    {
     "data": {
      "text/plain": [
       "[1, 2, 3, 5, 6]"
      ]
     },
     "execution_count": 5,
     "metadata": {},
     "output_type": "execute_result"
    }
   ],
   "source": [
    "def return_witout_dublicates(l):\n",
    "    return list(set(l))\n",
    "\n",
    "return_witout_dublicates([1,2,3,3,2,5,6])"
   ]
  },
  {
   "cell_type": "markdown",
   "id": "5fc77faf",
   "metadata": {},
   "source": [
    "Task 2"
   ]
  },
  {
   "cell_type": "code",
   "execution_count": 6,
   "id": "97bf1310",
   "metadata": {},
   "outputs": [
    {
     "data": {
      "text/plain": [
       "{2, 3}"
      ]
     },
     "execution_count": 6,
     "metadata": {},
     "output_type": "execute_result"
    }
   ],
   "source": [
    "def intersect_of_lists(l1,l2):\n",
    "    return set(l1).intersection(l2)\n",
    "\n",
    "intersect_of_lists([1,2,3,4,5], [2,3,6])"
   ]
  },
  {
   "cell_type": "markdown",
   "id": "1efc527c",
   "metadata": {},
   "source": [
    "Task 3"
   ]
  },
  {
   "cell_type": "code",
   "execution_count": 11,
   "id": "4b83986e",
   "metadata": {},
   "outputs": [
    {
     "data": {
      "text/plain": [
       "[1]"
      ]
     },
     "execution_count": 11,
     "metadata": {},
     "output_type": "execute_result"
    }
   ],
   "source": [
    "def in_one_but_not_in_second(l1,l2):\n",
    "    return [i for i in l1 if i not in set(l2)]\n",
    "\n",
    "in_one_but_not_in_second([1,2,3,5,6], [2,3,4,5,6,7,8])"
   ]
  },
  {
   "cell_type": "markdown",
   "id": "6e9f9d94",
   "metadata": {},
   "source": [
    "Task 4"
   ]
  },
  {
   "cell_type": "code",
   "execution_count": 23,
   "id": "62c3e219",
   "metadata": {},
   "outputs": [
    {
     "data": {
      "text/plain": [
       "{1, 4, 7, 8}"
      ]
     },
     "execution_count": 23,
     "metadata": {},
     "output_type": "execute_result"
    }
   ],
   "source": [
    "def in_one_or_not_in_second(l1,l2):\n",
    "    return set(l1)^(set(l2))\n",
    "in_one_or_not_in_second([1,2,3,5,6], [2,3,4,5,6,7,8])"
   ]
  },
  {
   "cell_type": "markdown",
   "id": "e38f00c4",
   "metadata": {},
   "source": [
    "Task 5"
   ]
  },
  {
   "cell_type": "code",
   "execution_count": 57,
   "id": "3f9a751c",
   "metadata": {},
   "outputs": [
    {
     "data": {
      "text/plain": [
       "{1, 4, 7, 8}"
      ]
     },
     "execution_count": 57,
     "metadata": {},
     "output_type": "execute_result"
    }
   ],
   "source": [
    "def one_sec_or_bot(l1,l2):\n",
    "    return set(l1)|(set(l2))\n",
    "in_one_or_not_in_second([1,2,3,5,6], [2,3,4,5,6,7,8])"
   ]
  },
  {
   "cell_type": "markdown",
   "id": "2f4eb8f9",
   "metadata": {},
   "source": [
    "Task 6"
   ]
  },
  {
   "cell_type": "code",
   "execution_count": 59,
   "id": "d460c97a",
   "metadata": {},
   "outputs": [
    {
     "data": {
      "text/plain": [
       "{1, 2}"
      ]
     },
     "execution_count": 59,
     "metadata": {},
     "output_type": "execute_result"
    }
   ],
   "source": [
    "def remove_from_set(s: set, value):\n",
    "    s.remove(value)\n",
    "    return s\n",
    "remove_from_set({1,2,3}, 3)"
   ]
  },
  {
   "cell_type": "markdown",
   "id": "54069f98",
   "metadata": {},
   "source": [
    "Task 7"
   ]
  },
  {
   "cell_type": "code",
   "execution_count": 60,
   "id": "49774b15",
   "metadata": {},
   "outputs": [
    {
     "data": {
      "text/plain": [
       "[1, 4, 9, 16]"
      ]
     },
     "execution_count": 60,
     "metadata": {},
     "output_type": "execute_result"
    }
   ],
   "source": [
    "def list_of_cubes_from_set(s: set):\n",
    "    return [i**2 for i in s]\n",
    "list_of_cubes_from_set({1,2,3,4})"
   ]
  },
  {
   "cell_type": "markdown",
   "id": "3133bda3",
   "metadata": {},
   "source": [
    "Task 8"
   ]
  },
  {
   "cell_type": "code",
   "execution_count": 61,
   "id": "d5342d84",
   "metadata": {},
   "outputs": [
    {
     "data": {
      "text/plain": [
       "{1: 'a', 2: 'b', 3: 'c', 4: 'g'}"
      ]
     },
     "execution_count": 61,
     "metadata": {},
     "output_type": "execute_result"
    }
   ],
   "source": [
    "def value_adder(d:dict, key, value):\n",
    "    d[key] = value\n",
    "    return d\n",
    "\n",
    "value_adder({1:'a', 2:'b', 3:'c'}, 4, 'g')"
   ]
  },
  {
   "cell_type": "markdown",
   "id": "bb6342e3",
   "metadata": {},
   "source": [
    "Task 9"
   ]
  },
  {
   "cell_type": "code",
   "execution_count": 3,
   "id": "ea78c2e0",
   "metadata": {},
   "outputs": [],
   "source": [
    "def concat_dict(a, b):\n",
    "    return a.update(b)"
   ]
  },
  {
   "cell_type": "markdown",
   "id": "ad532989",
   "metadata": {},
   "source": [
    "Task 10"
   ]
  },
  {
   "cell_type": "code",
   "execution_count": 4,
   "id": "fd03ce41",
   "metadata": {},
   "outputs": [
    {
     "data": {
      "text/plain": [
       "{0: 0, 1: 1, 2: 4, 3: 9, 4: 16, 5: 25}"
      ]
     },
     "execution_count": 4,
     "metadata": {},
     "output_type": "execute_result"
    }
   ],
   "source": [
    "def create_dict_from_nums(a):\n",
    "    d = dict()\n",
    "    for i in range(a):\n",
    "        d[i]=i**2\n",
    "    return d\n",
    "\n",
    "create_dict_from_nums(6)"
   ]
  },
  {
   "cell_type": "markdown",
   "id": "633c03da",
   "metadata": {},
   "source": [
    "Task 11"
   ]
  },
  {
   "cell_type": "code",
   "execution_count": 8,
   "id": "fa35b314",
   "metadata": {},
   "outputs": [
    {
     "data": {
      "text/plain": [
       "{1: 5, 2: 6, 3: 7}"
      ]
     },
     "execution_count": 8,
     "metadata": {},
     "output_type": "execute_result"
    }
   ],
   "source": [
    "def create_dict_from_lists(l1,l2):\n",
    "    d = {}\n",
    "    for i in range(len(l1)):\n",
    "        d[l1[i]] = l2[i]\n",
    "    return d\n",
    "\n",
    "create_dict_from_lists([1,2,3], [5,6,7])"
   ]
  },
  {
   "cell_type": "markdown",
   "id": "07ebb9f0",
   "metadata": {},
   "source": [
    "Task 12"
   ]
  },
  {
   "cell_type": "code",
   "execution_count": 31,
   "id": "cbfc26c2",
   "metadata": {},
   "outputs": [
    {
     "data": {
      "text/plain": [
       "(-9, 99)"
      ]
     },
     "execution_count": 31,
     "metadata": {},
     "output_type": "execute_result"
    }
   ],
   "source": [
    "def get_max_and_min(d: dict):\n",
    "    s = set()\n",
    "    for i in d.values():\n",
    "        s.add(i)\n",
    "    s = sorted(s)\n",
    "    return s[0], s[-1]\n",
    "\n",
    "get_max_and_min({'a':1,'b':23, 'c':-9,'d':99})"
   ]
  },
  {
   "cell_type": "markdown",
   "id": "4f85d008",
   "metadata": {},
   "source": [
    "Task 13"
   ]
  },
  {
   "cell_type": "code",
   "execution_count": 111,
   "id": "7a7da124",
   "metadata": {},
   "outputs": [
    {
     "name": "stdout",
     "output_type": "stream",
     "text": [
      "ABC/nDEF/nGHI/nJKL/nMNO/nPQR/nSTU/nVWX/n\n"
     ]
    }
   ],
   "source": [
    "def read_first_lines(n):\n",
    "    with open(\"words.txt\", 'r') as f:\n",
    "        f = f.readlines()\n",
    "        for i in range(n):\n",
    "            print(f[i])\n",
    "read_first_lines(1)"
   ]
  },
  {
   "cell_type": "markdown",
   "id": "f069d141",
   "metadata": {},
   "source": [
    "Task 14"
   ]
  },
  {
   "cell_type": "code",
   "execution_count": 74,
   "id": "e63082c8",
   "metadata": {},
   "outputs": [
    {
     "data": {
      "text/plain": [
       "'superencrypted.\\nAccording'"
      ]
     },
     "execution_count": 74,
     "metadata": {},
     "output_type": "execute_result"
    }
   ],
   "source": [
    "def read_first_lines():\n",
    "    with open(\"file.txt\", 'r') as f:\n",
    "        l = f.read()\n",
    "        return sorted(l.split(' '), key=len)[-1]\n",
    "        \n",
    "        \n",
    "read_first_lines()"
   ]
  },
  {
   "cell_type": "markdown",
   "id": "7368edf1",
   "metadata": {},
   "source": [
    "Task 15"
   ]
  },
  {
   "cell_type": "code",
   "execution_count": 79,
   "id": "7506dad0",
   "metadata": {},
   "outputs": [
    {
     "name": "stdout",
     "output_type": "stream",
     "text": [
      "Request for Comment (RFC) 4949  \"Internet Security Glossary  Version 2 \" the Internet Engineering\n",
      "Task Force differentiates between plaintext and cleartext  noting that the two terms are not interchangeable.\n",
      "For the purpose of internet security  cleartext data is not encrypted  while plaintext data could be encrypted if it is being superencrypted.\n",
      "According to the National Institute of Standards and Technology (NIST) \n",
      " plaintext refers to \"intelligible data that has meaning and can be understood without the application of decryption \"\n",
      " although this is one of several definitions NIST recognizes -- including the IETF definition.\n"
     ]
    }
   ],
   "source": [
    "def read_first_lines():\n",
    "    with open(\"file.txt\", 'r') as f:\n",
    "        l = f.read()\n",
    "        l = l.replace(',', ' ')\n",
    "        return sorted(l.split(' '), key=len)[-1]\n",
    "        \n",
    "read_first_lines()"
   ]
  },
  {
   "cell_type": "markdown",
   "id": "726b934e",
   "metadata": {},
   "source": [
    "Task 16"
   ]
  },
  {
   "cell_type": "code",
   "execution_count": 147,
   "id": "dc1f34bf",
   "metadata": {},
   "outputs": [
    {
     "name": "stdout",
     "output_type": "stream",
     "text": [
      "ABCDEFGH\n",
      "IJKLMNOP\n",
      "QRSTUVWX\n",
      "YZ\n"
     ]
    }
   ],
   "source": [
    "import string\n",
    "\n",
    "def write_chars(n):\n",
    "    char = string.ascii_uppercase\n",
    "    index = 0\n",
    "    with open(\"words.txt\", 'w') as f:\n",
    "        while index+n <= len(char):\n",
    "            f.write(char[index:index+n]+ '\\n')\n",
    "            index += n\n",
    "            \n",
    "        if len(char)%n != 0:\n",
    "            f.write(char[-(len(char)%n):])\n",
    "\n",
    "    with open(\"words.txt\", 'r') as f:\n",
    "        f = f.read()\n",
    "        print(f)\n",
    "    return\n",
    "\n",
    "write_chars(8)"
   ]
  },
  {
   "cell_type": "markdown",
   "id": "12a95bb1",
   "metadata": {},
   "source": [
    "Таск 22*\n",
    "Check person age without any compare operators and if/else blocks. Function get 1 number as input, output should be the string.\n",
    "0 - Just born\n",
    "1-10 - Child\n",
    "10-18 - Teenager\n",
    "18-50 - Young\n",
    "50 and more - Old"
   ]
  },
  {
   "cell_type": "code",
   "execution_count": 167,
   "id": "b56f837a",
   "metadata": {},
   "outputs": [
    {
     "data": {
      "text/plain": [
       "'young'"
      ]
     },
     "execution_count": 167,
     "metadata": {},
     "output_type": "execute_result"
    }
   ],
   "source": [
    "def get_age_label(n):\n",
    "    return \"just born\" * (n in range(0, 1)) + \"child\" * (n in range(1, 10)) + \"young\" * (n in range(10, 30))\n",
    "get_age_label(16)"
   ]
  },
  {
   "cell_type": "markdown",
   "id": "769dd57c",
   "metadata": {},
   "source": [
    "Task 23"
   ]
  },
  {
   "cell_type": "code",
   "execution_count": 176,
   "id": "ee372e30",
   "metadata": {},
   "outputs": [
    {
     "ename": "NameError",
     "evalue": "name 'Person' is not defined",
     "output_type": "error",
     "traceback": [
      "\u001b[0;31m---------------------------------------------------------------------------\u001b[0m",
      "\u001b[0;31mNameError\u001b[0m                                 Traceback (most recent call last)",
      "Cell \u001b[0;32mIn[176], line 32\u001b[0m\n\u001b[1;32m     28\u001b[0m     \u001b[38;5;28;01mdef\u001b[39;00m \u001b[38;5;21mchange_postition\u001b[39m(\u001b[38;5;28mself\u001b[39m, new_position):\n\u001b[1;32m     29\u001b[0m         \u001b[38;5;28mself\u001b[39m\u001b[38;5;241m.\u001b[39mposition \u001b[38;5;241m=\u001b[39m new_position\n\u001b[0;32m---> 32\u001b[0m \u001b[38;5;28;01mclass\u001b[39;00m \u001b[38;5;21;01mPerson\u001b[39;00m:\n\u001b[1;32m     33\u001b[0m     \u001b[38;5;28;01mdef\u001b[39;00m \u001b[38;5;21m__init__\u001b[39m(\u001b[38;5;28mself\u001b[39m, name, surname, gender, age, address,\n\u001b[1;32m     34\u001b[0m                  friends: \u001b[38;5;28mlist\u001b[39m[Person], job: \u001b[38;5;28mlist\u001b[39m[Job]):\n\u001b[1;32m     35\u001b[0m         \u001b[38;5;28mself\u001b[39m\u001b[38;5;241m.\u001b[39mname \u001b[38;5;241m=\u001b[39m name\n",
      "Cell \u001b[0;32mIn[176], line 34\u001b[0m, in \u001b[0;36mPerson\u001b[0;34m()\u001b[0m\n\u001b[1;32m     32\u001b[0m \u001b[38;5;28;01mclass\u001b[39;00m \u001b[38;5;21;01mPerson\u001b[39;00m:\n\u001b[1;32m     33\u001b[0m     \u001b[38;5;28;01mdef\u001b[39;00m \u001b[38;5;21m__init__\u001b[39m(\u001b[38;5;28mself\u001b[39m, name, surname, gender, age, address,\n\u001b[0;32m---> 34\u001b[0m                  friends: \u001b[38;5;28mlist\u001b[39m[\u001b[43mPerson\u001b[49m], job: \u001b[38;5;28mlist\u001b[39m[Job]):\n\u001b[1;32m     35\u001b[0m         \u001b[38;5;28mself\u001b[39m\u001b[38;5;241m.\u001b[39mname \u001b[38;5;241m=\u001b[39m name\n\u001b[1;32m     36\u001b[0m         \u001b[38;5;28mself\u001b[39m\u001b[38;5;241m.\u001b[39msurname \u001b[38;5;241m=\u001b[39m surname\n",
      "\u001b[0;31mNameError\u001b[0m: name 'Person' is not defined"
     ]
    }
   ],
   "source": [
    "\n",
    "\n",
    "class Company:\n",
    "    def __init__(self, company_name, founded_at, employees_count):\n",
    "        self.company_name = company_name\n",
    "        self.founded_at = founded_at\n",
    "        self.employees_count = employees_count\n",
    "        \n",
    "    def __repr__(self):\n",
    "        return f\"\"\"company name: {self.company_name},\n",
    "                   founded at: {self.founded_at}, employees count: {self.employees_count}\"\"\"\n",
    "    \n",
    "class Job:\n",
    "    def __init__(self, company: Company, slalry, experience_year, position):\n",
    "        self.company = company\n",
    "        self.slalry = slalry\n",
    "        self.experience_year = experience_year\n",
    "        self.position = position\n",
    "        \n",
    "    def __repr__(self):\n",
    "        return f\"\"\"company: {self.company.company_name}, slalry: {self.slalry},\n",
    "                   experience year: {experience_year}, position: {position}\"\"\"\n",
    "    \n",
    "    def change_salary(self, new_salay):\n",
    "        self.salary = new_salay\n",
    "        \n",
    "    def change_experience_year(self, new_exp_year):\n",
    "        self.experience_year = new_exp_year\n",
    "        \n",
    "    def change_postition(self, new_position):\n",
    "        self.position = new_position\n",
    "\n",
    "        \n",
    "class Person:\n",
    "    def __init__(self, name, surname, gender, age, address,\n",
    "                 friends: list[slef], job: list[Job]):\n",
    "        self.name = name\n",
    "        self.surname = surname\n",
    "        self.gender = gender\n",
    "        self.age = age\n",
    "        self.address = address\n",
    "        self.friends = friends\n",
    "        self.job = Job\n",
    "    \n",
    "    def __repr__(self):\n",
    "        return f\"\"\"name: {self.name}, surname: {self.surname},\n",
    "                   \"\"\"\n",
    "    \n",
    "    def add_friend(self, new_friend: Person):\n",
    "        self.friends.append(new_friend)\n",
    "        \n",
    "    def remove_friend(self, rm_friend: Person):\n",
    "        self.friends.remove(rm_friend)\n",
    "        \n",
    "    def add_job(self, new_job: Job):\n",
    "        self.job.append(new_job)\n",
    "        \n",
    "    def remove_job(self, rm_job: Job):\n",
    "        self.job.remove(rm_job)\n",
    "        \n",
    "    def display_job(self, job):\n",
    "        for job in job:\n",
    "            print(job)\n",
    "\n",
    "    "
   ]
  },
  {
   "cell_type": "code",
   "execution_count": 169,
   "id": "bc7f7ee9",
   "metadata": {},
   "outputs": [],
   "source": [
    "c = Company('pepsi', 1913, 10000)"
   ]
  },
  {
   "cell_type": "code",
   "execution_count": 170,
   "id": "ef8bc88b",
   "metadata": {},
   "outputs": [
    {
     "data": {
      "text/plain": [
       "'pepsi'"
      ]
     },
     "execution_count": 170,
     "metadata": {},
     "output_type": "execute_result"
    }
   ],
   "source": []
  },
  {
   "cell_type": "code",
   "execution_count": 172,
   "id": "eca71edc",
   "metadata": {},
   "outputs": [
    {
     "data": {
      "text/plain": [
       "__main__.Company"
      ]
     },
     "execution_count": 172,
     "metadata": {},
     "output_type": "execute_result"
    }
   ],
   "source": []
  },
  {
   "cell_type": "code",
   "execution_count": null,
   "id": "e0d5a5fa",
   "metadata": {},
   "outputs": [],
   "source": []
  }
 ],
 "metadata": {
  "kernelspec": {
   "display_name": "Python 3 (ipykernel)",
   "language": "python",
   "name": "python3"
  },
  "language_info": {
   "codemirror_mode": {
    "name": "ipython",
    "version": 3
   },
   "file_extension": ".py",
   "mimetype": "text/x-python",
   "name": "python",
   "nbconvert_exporter": "python",
   "pygments_lexer": "ipython3",
   "version": "3.10.9"
  }
 },
 "nbformat": 4,
 "nbformat_minor": 5
}
