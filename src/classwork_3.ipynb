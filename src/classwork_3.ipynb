{
 "cells": [
  {
   "cell_type": "markdown",
   "id": "6b7972da",
   "metadata": {},
   "source": [
    "1. Write a generator function called count_up to that takes a number x as an argument and counts from 0 up to that number, returning each number as it's generated."
   ]
  },
  {
   "cell_type": "code",
   "execution_count": 38,
   "id": "316fd12e",
   "metadata": {},
   "outputs": [],
   "source": [
    "def count_up(x: int):\n",
    "    i = 0\n",
    "    while i < x:\n",
    "        yield i\n",
    "        i+=1\n",
    "\n",
    "a = count_up(5)\n",
    "next(a)"
   ]
  },
  {
   "cell_type": "code",
   "execution_count": 44,
   "id": "d451cddd",
   "metadata": {},
   "outputs": [],
   "source": [
    "def count_up(x: int):\n",
    "    return (i for i in range(x))\n",
    "\n",
    "a = count_up(5)\n",
    "next(a)"
   ]
  },
  {
   "cell_type": "markdown",
   "id": "fe29e949",
   "metadata": {},
   "source": [
    "2. generator return even"
   ]
  },
  {
   "cell_type": "code",
   "execution_count": 53,
   "id": "35cc7ebb",
   "metadata": {},
   "outputs": [],
   "source": [
    "def count_up_even(x: int):\n",
    "    i = 2\n",
    "    while i < x:\n",
    "        yield i\n",
    "        i+=2\n"
   ]
  },
  {
   "cell_type": "code",
   "execution_count": 62,
   "id": "50327683",
   "metadata": {},
   "outputs": [
    {
     "name": "stdout",
     "output_type": "stream",
     "text": [
      "2\n",
      "4\n"
     ]
    }
   ],
   "source": [
    "def count_up_even(x: int):\n",
    "    return (i for i in range(x) if i%2==0 and i > 0)\n",
    "\n",
    "for i in count_up_even(5):\n",
    "    print(i)"
   ]
  },
  {
   "cell_type": "code",
   "execution_count": null,
   "id": "de4a70cc",
   "metadata": {},
   "outputs": [],
   "source": []
  },
  {
   "cell_type": "code",
   "execution_count": null,
   "id": "245d0d50",
   "metadata": {},
   "outputs": [],
   "source": []
  }
 ],
 "metadata": {
  "kernelspec": {
   "display_name": "Python 3 (ipykernel)",
   "language": "python",
   "name": "python3"
  },
  "language_info": {
   "codemirror_mode": {
    "name": "ipython",
    "version": 3
   },
   "file_extension": ".py",
   "mimetype": "text/x-python",
   "name": "python",
   "nbconvert_exporter": "python",
   "pygments_lexer": "ipython3",
   "version": "3.10.9"
  }
 },
 "nbformat": 4,
 "nbformat_minor": 5
}
