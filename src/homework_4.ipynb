{
 "cells": [
  {
   "cell_type": "markdown",
   "id": "fb734567",
   "metadata": {},
   "source": [
    "TASK 1\n",
    "\n",
    "Տրված է թվաբանական պրոգրեսիայի առաջին և երկրորդ անդամները։ Տրված n֊ի\n",
    "համար, վերադարձնել այդ պրոգրեսիայի n֊րդ անդամը։"
   ]
  },
  {
   "cell_type": "code",
   "execution_count": 7,
   "id": "475f4d3c",
   "metadata": {},
   "outputs": [
    {
     "data": {
      "text/plain": [
       "4.5"
      ]
     },
     "execution_count": 7,
     "metadata": {},
     "output_type": "execute_result"
    }
   ],
   "source": [
    "def progression(a1, a2, n):\n",
    "    return a1 + (n-1)*(a2 - a1)\n",
    "\n",
    "progression(2.5,3,5)"
   ]
  },
  {
   "cell_type": "markdown",
   "id": "6999dfc2",
   "metadata": {},
   "source": [
    "TASK 2\n",
    "\n",
    "CodeMaster-ը նոր է վերադարձել գնումներից։ Նա սկանավորեց իր գնած ապրանքների\n",
    "չեկը և ստացված շարանը տվեց Ratiorg֊ին՝ պարզելու գնված ապրանքների\n",
    "ընդհանուր թիվը: Քանի որ Ratiorg-ը բոտ է, նա անպայման պատրաստվում է այն\n",
    "ավտոմատացնել, ուստի նրան անհրաժեշտ է ծրագիր, որը կամփոփի բոլոր թվերը,\n",
    "որոնք հայտնվում են տվյալ մուտքագրում:\n",
    "Օգնեք Ratiorg-ին՝ գրելով ֆունկցիա, որը վերադարձնում է տվյալ inputString-ում\n",
    "հայտնված թվերի գումարը։"
   ]
  },
  {
   "cell_type": "code",
   "execution_count": 16,
   "id": "045b409f",
   "metadata": {},
   "outputs": [
    {
     "data": {
      "text/plain": [
       "144"
      ]
     },
     "execution_count": 16,
     "metadata": {},
     "output_type": "execute_result"
    }
   ],
   "source": [
    "def sum_numbers_in_string(string):\n",
    "    total = 0\n",
    "    current_number = 0\n",
    "\n",
    "    for char in string:\n",
    "        if char.isdigit():\n",
    "            current_number = current_number * 10 + int(char)\n",
    "        else:\n",
    "            total += current_number\n",
    "            current_number = 0\n",
    "    total += current_number\n",
    "\n",
    "    return total\n",
    "\n",
    "sum_numbers_in_string('2 apples, 142 oranges')"
   ]
  },
  {
   "cell_type": "markdown",
   "id": "74f94db0",
   "metadata": {},
   "source": [
    "TASK 3\n",
    "\n",
    "Մուտքագրեք երեք ամբողջ թիվ: Տպեք «Տեսակավորված» բառը, եթե թվերը նշված են\n",
    "ոչ աճող կամ չնվազող հերթականությամբ, իսկ «Չտեսակավորված» հակարակ\n",
    "դեփքում:"
   ]
  },
  {
   "cell_type": "code",
   "execution_count": 3,
   "id": "656f7693",
   "metadata": {},
   "outputs": [
    {
     "name": "stdout",
     "output_type": "stream",
     "text": [
      "Sorted\n"
     ]
    }
   ],
   "source": [
    "def sorted_or_not(a, b, c):\n",
    "    if a>=b>=c or a<=b<=c:\n",
    "        print('Sorted')\n",
    "    else:\n",
    "        print('Unsorted') \n",
    "    \n",
    "sorted_or_not(5, 0 ,-4)"
   ]
  },
  {
   "cell_type": "markdown",
   "id": "8a5cbd9c",
   "metadata": {},
   "source": [
    "TASK 4\n",
    "\n",
    "Գրել ֆունկցիա, որը տրված բնական թվի համար կստուգի, արդյոք այն\n",
    "կատարյալ թիվ է, թե ոչ։\n",
    "Հ․Գ Թիվը կոչվում է կատարյալ, եթե այն հավասար է իր բաժանարարների\n",
    "գումարին։"
   ]
  },
  {
   "cell_type": "code",
   "execution_count": 35,
   "id": "8dee3888",
   "metadata": {},
   "outputs": [
    {
     "data": {
      "text/plain": [
       "True"
      ]
     },
     "execution_count": 35,
     "metadata": {},
     "output_type": "execute_result"
    }
   ],
   "source": [
    "def ceil(n):\n",
    "    if n%2==1:\n",
    "        return int(n+0.5)\n",
    "    else:\n",
    "        return int(n)\n",
    "    \n",
    "def perfect_num(n):\n",
    "    \n",
    "    list_of = [i for i in range(1,ceil(n/2)+1) if n%i==0]\n",
    "    summ = 0\n",
    "    for i in list_of:\n",
    "        summ += i\n",
    "    \n",
    "    if n == summ:\n",
    "        return True\n",
    "    else:\n",
    "        return False\n",
    "    \n",
    "perfect_num(6)"
   ]
  },
  {
   "cell_type": "markdown",
   "id": "9608c861",
   "metadata": {},
   "source": [
    "TASK 5\n",
    "\n",
    "Գրել ծրագիր, որը տրված թվային արժեքներով ցուցակի համար, կհաշվի նրա\n",
    "էլեմենտների գումարը։"
   ]
  },
  {
   "cell_type": "code",
   "execution_count": 9,
   "id": "ad285f95",
   "metadata": {},
   "outputs": [
    {
     "data": {
      "text/plain": [
       "10"
      ]
     },
     "execution_count": 9,
     "metadata": {},
     "output_type": "execute_result"
    }
   ],
   "source": [
    "def element_summ(l):\n",
    "    summ = 0\n",
    "    for i in l:\n",
    "        summ += i\n",
    "    return summ\n",
    "\n",
    "element_summ([3,4,3])"
   ]
  },
  {
   "cell_type": "markdown",
   "id": "f5aa993f",
   "metadata": {},
   "source": [
    "TASK 6\n",
    "\n",
    "Գրել ֆունկցիա, որը տրված թվային արժեքներով ցուցակի համար, կվերադարձնի այդ\n",
    "ցուցակի ամենամեծ էլեմենտը։"
   ]
  },
  {
   "cell_type": "code",
   "execution_count": 10,
   "id": "22f97294",
   "metadata": {},
   "outputs": [
    {
     "data": {
      "text/plain": [
       "52"
      ]
     },
     "execution_count": 10,
     "metadata": {},
     "output_type": "execute_result"
    }
   ],
   "source": [
    "def max_element(l):\n",
    "    num = l[0]\n",
    "    for i in l:\n",
    "        if i > num:\n",
    "            num = i\n",
    "    \n",
    "    return num\n",
    "\n",
    "max_element([4,52,2])"
   ]
  },
  {
   "cell_type": "markdown",
   "id": "42c516a9",
   "metadata": {},
   "source": [
    "TASK 7\n",
    "\n",
    "Գրել ֆունկցիա, որը տրված ցուցակից կջնջի տրված արժեքին հավասար բոլոր\n",
    "էլեմենտները։"
   ]
  },
  {
   "cell_type": "code",
   "execution_count": 15,
   "id": "fbdaa50a",
   "metadata": {},
   "outputs": [
    {
     "data": {
      "text/plain": [
       "[4, 5, 8, 5]"
      ]
     },
     "execution_count": 15,
     "metadata": {},
     "output_type": "execute_result"
    }
   ],
   "source": [
    "def del_by_value(l, value):\n",
    "    return [i for i in l if i!=value]\n",
    "\n",
    "del_by_value([4,5,7,8,7,5], 7)"
   ]
  },
  {
   "cell_type": "markdown",
   "id": "ee95d71a",
   "metadata": {},
   "source": [
    "TASK 8\n",
    "\n",
    "Գրեք ֆունկցիա որը կվերադարձնի տրված թվային արժեքներով ցուցակի բոլոր\n",
    "էլեմենտների արտադրյալը։"
   ]
  },
  {
   "cell_type": "code",
   "execution_count": 18,
   "id": "e9b349bc",
   "metadata": {},
   "outputs": [
    {
     "data": {
      "text/plain": [
       "48"
      ]
     },
     "execution_count": 18,
     "metadata": {},
     "output_type": "execute_result"
    }
   ],
   "source": [
    "def product_of_elements(l):\n",
    "    prod = 1\n",
    "    for i in l:\n",
    "        prod = i * prod\n",
    "    return prod\n",
    "\n",
    "product_of_elements([2,3,4,2])"
   ]
  },
  {
   "cell_type": "markdown",
   "id": "8b1d45d8",
   "metadata": {},
   "source": [
    "TASK 9\n",
    "\n",
    "Գրեք ֆունկցիա՝ տողը հակադարձելու համար, եթե դրա երկարությունը 4-ի\n",
    "բազմապատիկ է։"
   ]
  },
  {
   "cell_type": "code",
   "execution_count": 21,
   "id": "b7379d69",
   "metadata": {},
   "outputs": [
    {
     "data": {
      "text/plain": [
       "'erab'"
      ]
     },
     "execution_count": 21,
     "metadata": {},
     "output_type": "execute_result"
    }
   ],
   "source": [
    "def reverce_if_div_on_4(string):\n",
    "    return string[::-1] if len(string)%4==0 else None\n",
    "\n",
    "reverce_if_div_on_4(\"bare\")"
   ]
  },
  {
   "cell_type": "markdown",
   "id": "eae6fa90",
   "metadata": {},
   "source": [
    "TASK 10\n",
    "\n",
    "Գրեք ֆունկցիա՝ որը տրված բնական n թվի համար վերադարձնում է Ֆիբոնաչիի n-րդ\n",
    "անդամը։ Խնդիրը լուծել և ռեկուրսիվ, և իտերատիվ մեթոդներով։"
   ]
  },
  {
   "cell_type": "code",
   "execution_count": 48,
   "id": "d058b948",
   "metadata": {},
   "outputs": [
    {
     "data": {
      "text/plain": [
       "13"
      ]
     },
     "execution_count": 48,
     "metadata": {},
     "output_type": "execute_result"
    }
   ],
   "source": [
    "def fibonacci_recursive(n):\n",
    "    if n == 0 or n == 1:\n",
    "        return n\n",
    "    else:\n",
    "        return fibonacci_recursive(n - 1) + fibonacci_recursive(n - 2)\n",
    "    \n",
    "fibonacci_recursive(7)"
   ]
  },
  {
   "cell_type": "code",
   "execution_count": 49,
   "id": "30d7bf62",
   "metadata": {},
   "outputs": [
    {
     "data": {
      "text/plain": [
       "13"
      ]
     },
     "execution_count": 49,
     "metadata": {},
     "output_type": "execute_result"
    }
   ],
   "source": [
    "def fibonacci_iterative(n):\n",
    "    a, b = 0, 1\n",
    "    for i in range(n):\n",
    "        a, b = b, a + b\n",
    "    return a\n",
    "\n",
    "fibonacci_iterative(7)"
   ]
  },
  {
   "cell_type": "markdown",
   "id": "29a50595",
   "metadata": {},
   "source": [
    "TASK 11\n",
    "\n",
    "Գրել ֆունկցիա, որը տրված 2 բնական թվերի համար կվերադարձնի նրանց\n",
    "ամենափոքր ընդհանուր բազմապատիկը։"
   ]
  },
  {
   "cell_type": "code",
   "execution_count": 36,
   "id": "c2be72d2",
   "metadata": {},
   "outputs": [
    {
     "data": {
      "text/plain": [
       "210"
      ]
     },
     "execution_count": 36,
     "metadata": {},
     "output_type": "execute_result"
    }
   ],
   "source": [
    "def least_common_multiple(a, b):\n",
    "    if a == 0 or b == 0:\n",
    "        return 0\n",
    "\n",
    "    greater = a if a>=b else b\n",
    "    lcm = greater\n",
    "\n",
    "    while (lcm % a != 0) or (lcm % b != 0):\n",
    "        lcm += greater\n",
    "\n",
    "    return lcm\n",
    "\n",
    "least_common_multiple(15,70)"
   ]
  },
  {
   "cell_type": "markdown",
   "id": "37ff91c6",
   "metadata": {},
   "source": [
    "TASK 12\n",
    "\n",
    "Գրեք python ծրագիր՝ նշված թվի հաջորդ ամենափոքր պալինդրոմը գտնելու համար:\n"
   ]
  },
  {
   "cell_type": "code",
   "execution_count": 81,
   "id": "64ee05a8",
   "metadata": {},
   "outputs": [
    {
     "data": {
      "text/plain": [
       "12421"
      ]
     },
     "execution_count": 81,
     "metadata": {},
     "output_type": "execute_result"
    }
   ],
   "source": [
    "def next_palindrome(n):\n",
    "    while True:\n",
    "        n += 1\n",
    "        if str(n) == str(n)[::-1]:\n",
    "            return n\n",
    "        \n",
    "next_palindrome(12380)"
   ]
  },
  {
   "cell_type": "markdown",
   "id": "7a9ef92e",
   "metadata": {},
   "source": [
    "TASK 13\n",
    "\n",
    "Ռոբոտը կանգնած է ուղղանկյուն ցանցի վրա և ներկայումս գտնվում է կետում (X0,\n",
    "Y0): Կոորդինատները ամբողջ թիվ են։ Այն ստանում է N հեռակառավարման\n",
    "հրամաններ: Յուրաքանչյուր հրաման մեկն է՝ վեր, վար, ձախ, աջ: Ճիշտ հրաման\n",
    "ստանալուց հետո ռոբոտը մեկ միավոր է տեղափոխում տվյալ ուղղությամբ։ Եթե\n",
    "ռոբոտը սխալ հրաման է ստանում, նա պարզապես անտեսում է այն: Որտե՞ղ է\n",
    "գտնվելու ռոբոտը բոլոր հրամաններին հետևելուց հետո:\n",
    "Ուշադրություն: աջը՝ x0+1, ձախը՝ x0-1, վերևը՝ y0+1, ներքևը՝ y0-1։"
   ]
  },
  {
   "cell_type": "code",
   "execution_count": 91,
   "id": "9e902f09",
   "metadata": {},
   "outputs": [
    {
     "data": {
      "text/plain": [
       "(2, 5)"
      ]
     },
     "execution_count": 91,
     "metadata": {},
     "output_type": "execute_result"
    }
   ],
   "source": [
    "def robot_walker(l, X_max=10, Y_max=10):\n",
    "    X = 0\n",
    "    Y = 0\n",
    "    for command in l:\n",
    "        if command == 'up' and Y < Y_max:\n",
    "            Y += 1\n",
    "        elif command == 'down' and Y > 0:\n",
    "            Y -= 1\n",
    "        elif command == 'left' and X > 0:\n",
    "            X -= 1\n",
    "        elif command == 'right' and X < X_max:\n",
    "            X += 1\n",
    "        else:\n",
    "            pass\n",
    "        \n",
    "    return X, Y\n",
    "            \n",
    "robot_walker(['up','up','up','up','up','left', 'right', 'right', 'vazi'])"
   ]
  },
  {
   "cell_type": "markdown",
   "id": "1ca13c7d",
   "metadata": {},
   "source": [
    "TASK 14\n",
    "\n",
    "Ստուգեք, արդյոք 2 ցուցակները 1-քայլ ցիկլիկ են:"
   ]
  },
  {
   "cell_type": "code",
   "execution_count": 103,
   "id": "638ed5f0",
   "metadata": {},
   "outputs": [
    {
     "data": {
      "text/plain": [
       "True"
      ]
     },
     "execution_count": 103,
     "metadata": {},
     "output_type": "execute_result"
    }
   ],
   "source": [
    "def ciklik(list1, list2):\n",
    "    list1 = [list1[-1]] + list1[:-1]\n",
    "    return True if list1 == list2 else False\n",
    "\n",
    "ciklik([1,2,3,4,5,6], [6,1,2,3,4,5])"
   ]
  },
  {
   "cell_type": "markdown",
   "id": "1ab6f62c",
   "metadata": {},
   "source": [
    "TASK 15\n",
    "\n",
    "Գրել ծրագիր, որը ստանւմ է թիվ, գտեք առավելագույն թիվը, որը կարող եք ստանալ՝\n",
    "ջնջելով տվյալ թվի ուղիղ մեկ թվանշանը:"
   ]
  },
  {
   "cell_type": "code",
   "execution_count": 119,
   "id": "074163f3",
   "metadata": {},
   "outputs": [
    {
     "data": {
      "text/plain": [
       "101"
      ]
     },
     "execution_count": 119,
     "metadata": {},
     "output_type": "execute_result"
    }
   ],
   "source": [
    "def find_biggest_without_one_num(n):\n",
    "    n = str(n)\n",
    "    number = 0\n",
    "    for i, _ in enumerate(n):\n",
    "        if int(n[:i] + n[i+1:]) > number:\n",
    "            number = int(n[:i] + n[i+1:])\n",
    "    return number\n",
    "find_biggest_without_one_num(1001)        "
   ]
  },
  {
   "cell_type": "markdown",
   "id": "fd5d073d",
   "metadata": {},
   "source": [
    "TASK 16\n",
    "\n",
    "Գրեք ֆուկցիա որը ստանում է tuple տիպի օբյեկտ և վերադարձնում նոր tuple\n",
    "բաղկացած միայն առաջին tuple֊ի թվերից։"
   ]
  },
  {
   "cell_type": "code",
   "execution_count": 128,
   "id": "08396096",
   "metadata": {},
   "outputs": [
    {
     "data": {
      "text/plain": [
       "(1, 2, 5, 3.13)"
      ]
     },
     "execution_count": 128,
     "metadata": {},
     "output_type": "execute_result"
    }
   ],
   "source": [
    "def tuple_number_returner(tuple1):\n",
    "    return tuple(i for i in tuple1 if type(i) in [float, int])\n",
    "    \n",
    "tuple_number_returner((1, 2, 5, 3.13, [], {}))"
   ]
  },
  {
   "cell_type": "markdown",
   "id": "2bf1f8a5",
   "metadata": {},
   "source": [
    "TASK 17\n",
    "\n",
    "Գրեք Python ֆուկցիա որը ստանում է tuple և ցանկացաց տիպի օբյեկտ և ավելացնում\n",
    "է ստացած արժեքը tuple մեջ։"
   ]
  },
  {
   "cell_type": "code",
   "execution_count": 169,
   "id": "e0390e0b",
   "metadata": {},
   "outputs": [
    {
     "data": {
      "text/plain": [
       "(123, 34, 4, [4, 7])"
      ]
     },
     "execution_count": 169,
     "metadata": {},
     "output_type": "execute_result"
    }
   ],
   "source": [
    "def add_to_tuple(tuple1, object1):\n",
    "    return tuple1 + (object1,)\n",
    "\n",
    "add_to_tuple((123,34,4), [4,7])"
   ]
  },
  {
   "cell_type": "markdown",
   "id": "f65f7e05",
   "metadata": {},
   "source": [
    "TASK 18\n",
    "\n",
    "Գրեք Python ֆուկցիա որը ստանում է tuple դարձնում է string։ Tuplex֊ի էլեմենտները\n",
    "ստրինգում պետք է բաժանված լինեն ‘-’ նշանով։"
   ]
  },
  {
   "cell_type": "code",
   "execution_count": 137,
   "id": "2fa1dd63",
   "metadata": {},
   "outputs": [
    {
     "data": {
      "text/plain": [
       "'4-5-7-4f-fgg-5656-[4]'"
      ]
     },
     "execution_count": 137,
     "metadata": {},
     "output_type": "execute_result"
    }
   ],
   "source": [
    "def tuple_to_string(tuple1):\n",
    "    return \"-\".join([str(i) for i in tuple1])\n",
    "\n",
    "tuple_to_string((4,5,7,'4f','fgg',5656, [4]))"
   ]
  },
  {
   "cell_type": "markdown",
   "id": "65bc529d",
   "metadata": {},
   "source": [
    "TASK 19\n",
    "\n",
    "Գրեք Python ֆուկցիա որը ստանում է list և պետքա գտնել նրա երկարությունը առանց\n",
    "len() ֆունկցիա֊ի օգտագորձմամբ։"
   ]
  },
  {
   "cell_type": "code",
   "execution_count": 175,
   "id": "cbdcdf68",
   "metadata": {},
   "outputs": [
    {
     "data": {
      "text/plain": [
       "9"
      ]
     },
     "execution_count": 175,
     "metadata": {},
     "output_type": "execute_result"
    }
   ],
   "source": [
    "def len_function(list1):\n",
    "    length = 0\n",
    "    for i in list1:\n",
    "        length +=1\n",
    "    return length\n",
    "    \n",
    "len_function([4,5,6,78,5,6,5,4,4])"
   ]
  },
  {
   "cell_type": "markdown",
   "id": "4fadcd4a",
   "metadata": {},
   "source": [
    "TASK 20\n",
    "\n",
    "Ticket numbers usually consist of an even number of digits. A ticket number is considered\n",
    "lucky if the sum of the first half of the digits is equal to the sum of the second half.\n",
    "Given a ticket number n, determine if it&#39;s lucky or not. Not using: string, list, tuple, set\n",
    "types."
   ]
  },
  {
   "cell_type": "code",
   "execution_count": 231,
   "id": "fbd773aa",
   "metadata": {},
   "outputs": [
    {
     "data": {
      "text/plain": [
       "True"
      ]
     },
     "execution_count": 231,
     "metadata": {},
     "output_type": "execute_result"
    }
   ],
   "source": [
    "def lucky(n):\n",
    "    number = n\n",
    "    length = 0\n",
    "    \n",
    "    while n > 0:\n",
    "        n = n // 10\n",
    "        length += 1\n",
    "        \n",
    "    left = number // (10**(length/2))\n",
    "    right = number % (10**(length/2))\n",
    "      \n",
    "    a = 0\n",
    "    b = 0\n",
    "    \n",
    "    for i in range(int(length/2)):\n",
    "        a += left % 10\n",
    "        left = left // 10\n",
    "        \n",
    "    for i in range(int(length/2)):\n",
    "        b += right % 10\n",
    "        right = right // 10\n",
    "\n",
    "    return True if a == b else False\n",
    "\n",
    "lucky(139517)"
   ]
  },
  {
   "cell_type": "markdown",
   "id": "e84669b1",
   "metadata": {},
   "source": [
    "TASK 21\n",
    "\n",
    "Euler function is return a count of numbers not great than N, which are mutualy simple with\n",
    "N."
   ]
  },
  {
   "cell_type": "code",
   "execution_count": 245,
   "id": "5c55e55f",
   "metadata": {},
   "outputs": [
    {
     "data": {
      "text/plain": [
       "6"
      ]
     },
     "execution_count": 245,
     "metadata": {},
     "output_type": "execute_result"
    }
   ],
   "source": [
    "def gcd(a, b):\n",
    "    while b != 0:\n",
    "        a, b = b, a % b\n",
    "    return a\n",
    "\n",
    "def euler(n):\n",
    "    counter = 0\n",
    "    for i in range(1, n+1):\n",
    "        if gcd(i, n) == 1:\n",
    "            counter += 1\n",
    "    return counter\n",
    "\n",
    "euler(7)"
   ]
  },
  {
   "cell_type": "markdown",
   "id": "cc48d81a",
   "metadata": {},
   "source": [
    "TASK 22*\n",
    "\n",
    "You are given a 0-indexed string array words, where words[i] consists of lowercase English letters. In one operation, select any index i such that 0 &lt; i &lt; words.length and words[i - 1] and words[i] are anagrams, and delete words[i] from words. Keep performing this operation as long as you can select an index that satisfies the conditions. Return words after performing all operations. It can be shown that selecting the indices for each operation in any arbitrary order will lead to the same result. An Anagram is a word or phrase formed by rearranging the letters of a different word or phrase using all the original letters exactly once. For example, &quot;dacb&quot; is an anagram of\n",
    "\"abdc\";."
   ]
  },
  {
   "cell_type": "code",
   "execution_count": 436,
   "id": "7e9460ee",
   "metadata": {},
   "outputs": [
    {
     "data": {
      "text/plain": [
       "['abba', 'cd']"
      ]
     },
     "execution_count": 436,
     "metadata": {},
     "output_type": "execute_result"
    }
   ],
   "source": [
    "def anagram_cleaner(words):\n",
    "    result = [words[0]] \n",
    "    for i in range(1, len(words)):\n",
    "        a, b = Counter(words[i-1]), Counter(words[i]) \n",
    "        if a != b:\n",
    "            result.append(words[i]) \n",
    "    return result\n",
    "                \n",
    "anagram_cleaner(['abba', 'baba', 'baab', 'cd', 'dc'])    "
   ]
  },
  {
   "cell_type": "markdown",
   "id": "47b06f3a",
   "metadata": {},
   "source": [
    "TASK 23 **\n",
    "\n",
    "You are given an array of strings names, and an array heights that consists of distinct\n",
    "positive integers. Both arrays are of length n. For each index i, names[i] and heights[i]\n",
    "denote the name and height of the ith person. Return names sorted in descending\n",
    "order by the people&#39;s heights."
   ]
  },
  {
   "cell_type": "code",
   "execution_count": 435,
   "id": "076b4813",
   "metadata": {},
   "outputs": [
    {
     "data": {
      "text/plain": [
       "['9', '7', '6', '4', '3', '2', '2', '1']"
      ]
     },
     "execution_count": 435,
     "metadata": {},
     "output_type": "execute_result"
    }
   ],
   "source": [
    "def name_sorter(names, heights):\n",
    "    name_height_pairs = zip(names, heights)\n",
    "    sorted_pairs = sorted(name_height_pairs, key=lambda x: x[1], reverse=True)\n",
    "    sorted_names = [pair[0] for pair in sorted_pairs]\n",
    "    return sorted_names\n",
    "\n",
    "name_sorter(['2', '9', '1', '2', '6', '4', '7', '3'], [2,9,1,2,6,4,7,3])"
   ]
  },
  {
   "cell_type": "markdown",
   "id": "0b0572fe",
   "metadata": {},
   "source": [
    "TASK 24 ***\n",
    "\n",
    "In a special ranking system, each voter gives a rank from highest to lowest to all\n",
    "teams participating in the competition.\n",
    "The ordering of teams is decided by who received the most position-one votes. If two\n",
    "or more teams tie in the first position, we consider the second position to resolve the\n",
    "conflict, if they tie again, we continue this process until the ties are resolved. If two or\n",
    "more teams are still tied after considering all positions, we rank them alphabetically\n",
    "based on their team letter.\n",
    "\n",
    "You are given an array of strings votes which is the votes of all voters in the ranking\n",
    "systems. Sort all teams according to the ranking system described above.\n",
    "Return a string of all teams sorted by the ranking system."
   ]
  },
  {
   "cell_type": "code",
   "execution_count": 437,
   "id": "765a9793",
   "metadata": {},
   "outputs": [
    {
     "name": "stdout",
     "output_type": "stream",
     "text": [
      "ACB\n",
      "XWYZ\n",
      "ZMNAGUEDSJYLBOPHRQICWFXTVK\n",
      "ABC\n",
      "AXYB\n"
     ]
    }
   ],
   "source": [
    "def winner_picker(rankings):\n",
    "    def sort_teams(counter, position):\n",
    "        if not counter or position > len(rankings[0]):\n",
    "            return sorted(list(counter.keys()))\n",
    "\n",
    "        max_votes = max(counter[team][position] for team in counter)\n",
    "        top_teams = [team for team in counter if counter[team][position] == max_votes]\n",
    "\n",
    "        if len(top_teams) > 1:\n",
    "            return sort_teams({team: counter[team] for team in top_teams}, position+1)\n",
    "        top_team = sorted(top_teams)[0]\n",
    "        del counter[top_team]\n",
    "\n",
    "        return [top_team] + sort_teams(counter, position)\n",
    "\n",
    "    counter = {}\n",
    "    for rank in rankings:\n",
    "        for place, team in enumerate(rank):\n",
    "            if team not in counter:\n",
    "                counter[team] = {i: 0 for i in range(1, len(rank)+1)}\n",
    "            counter[team][place+1] += 1\n",
    "            \n",
    "    result = sort_teams(counter, 1)\n",
    "    while len(result) < len(rankings[0]):\n",
    "        remaining_teams = sorted(set(counter.keys()) - set(result))\n",
    "        result += sort_teams({team: counter[team] for team in remaining_teams}, 1)\n",
    "\n",
    "    return ''.join(result)\n",
    "\n",
    "# test the function\n",
    "rankings = [\n",
    "    [\"ABC\", \"ACB\", \"ABC\", \"ACB\", \"ACB\"],\n",
    "    [\"WXYZ\", \"XYZW\"],\n",
    "    [\"ZMNAGUEDSJYLBOPHRQICWFXTVK\"],\n",
    "    [\"BCA\",\"CAB\",\"CBA\",\"ABC\",\"ACB\",\"BAC\"],\n",
    "    [\"AXYB\",\"AYXB\",\"AXYB\",\"AYXB\"],\n",
    "]\n",
    "\n",
    "for ranking in rankings:\n",
    "    print(winner_picker(ranking))"
   ]
  },
  {
   "cell_type": "code",
   "execution_count": null,
   "id": "3247383e",
   "metadata": {},
   "outputs": [],
   "source": []
  }
 ],
 "metadata": {
  "kernelspec": {
   "display_name": "Python 3 (ipykernel)",
   "language": "python",
   "name": "python3"
  },
  "language_info": {
   "codemirror_mode": {
    "name": "ipython",
    "version": 3
   },
   "file_extension": ".py",
   "mimetype": "text/x-python",
   "name": "python",
   "nbconvert_exporter": "python",
   "pygments_lexer": "ipython3",
   "version": "3.10.9"
  }
 },
 "nbformat": 4,
 "nbformat_minor": 5
}
