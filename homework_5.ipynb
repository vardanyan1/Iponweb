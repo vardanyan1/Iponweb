{
 "cells": [
  {
   "cell_type": "markdown",
   "id": "fa9793c3",
   "metadata": {},
   "source": [
    "Task 1\n",
    "\n",
    "Write a Python program to create a new dictionary by extracting the mentioned keys\n",
    "from the below dictionary."
   ]
  },
  {
   "cell_type": "code",
   "execution_count": 427,
   "id": "58480de6",
   "metadata": {},
   "outputs": [
    {
     "data": {
      "text/plain": [
       "{'name': 'Kelly', 'salary': 8000}"
      ]
     },
     "execution_count": 427,
     "metadata": {},
     "output_type": "execute_result"
    }
   ],
   "source": [
    "def extract_keys(sample_dict: dict, keys: list):\n",
    "    \n",
    "    return {key: sample_dict[key] for key in keys}\n",
    "\n",
    "extract_keys({ \"name\": \"Kelly\", \"age\": 25, \"salary\": 8000, \"city\": \"New york\"}, \n",
    "            [\"name\", \"salary\"])"
   ]
  },
  {
   "cell_type": "markdown",
   "id": "c356f1cb",
   "metadata": {},
   "source": [
    "Task 2\n",
    "\n",
    "Get the key of a minimum value from the following dictionary."
   ]
  },
  {
   "cell_type": "code",
   "execution_count": 20,
   "id": "25f234a6",
   "metadata": {},
   "outputs": [
    {
     "data": {
      "text/plain": [
       "'Math'"
      ]
     },
     "execution_count": 20,
     "metadata": {},
     "output_type": "execute_result"
    }
   ],
   "source": [
    "def get_min(sample_dict: dict):\n",
    "    min_key = None\n",
    "    min_val = None\n",
    "    for key, val in sample_dict.items():\n",
    "        if min_val is None or val < min_val:\n",
    "            min_val = val\n",
    "            min_key = key\n",
    "    return min_key\n",
    "\n",
    "get_min({ 'Physics': 82, 'Math': 65, 'history': 75 })"
   ]
  },
  {
   "cell_type": "markdown",
   "id": "be64520f",
   "metadata": {},
   "source": [
    "Task 3\n",
    "\n",
    "Write a Python program to copy the contents of a file to another file"
   ]
  },
  {
   "cell_type": "code",
   "execution_count": 23,
   "id": "08b82f27",
   "metadata": {},
   "outputs": [],
   "source": [
    "def copy_content(from_file, to_file):\n",
    "    with open(from_file, \"r\") as f:\n",
    "        text = f.read()\n",
    "    with open(to_file, \"w\") as f:\n",
    "        f.write(text)       \n",
    "        \n",
    "copy_content(\"file.txt\", \"to_file.txt\")"
   ]
  },
  {
   "cell_type": "markdown",
   "id": "0f378cf5",
   "metadata": {},
   "source": [
    "Task 4\n",
    "\n",
    "Write a Python program to count the frequency of words in a file"
   ]
  },
  {
   "cell_type": "code",
   "execution_count": 31,
   "id": "1291744c",
   "metadata": {
    "collapsed": true
   },
   "outputs": [
    {
     "data": {
      "text/plain": [
       "{'what': 1,\n",
       " 'is': 6,\n",
       " 'lorem': 13,\n",
       " 'ipsum': 13,\n",
       " 'simply': 2,\n",
       " 'dummy': 2,\n",
       " 'text': 4,\n",
       " 'of': 14,\n",
       " 'the': 18,\n",
       " 'printing': 1,\n",
       " 'and': 9,\n",
       " 'typesetting': 2,\n",
       " 'industry': 1,\n",
       " 'has': 4,\n",
       " 'been': 1,\n",
       " 'industrys': 1,\n",
       " 'standard': 1,\n",
       " 'ever': 1,\n",
       " 'since': 1,\n",
       " '1500s': 1,\n",
       " 'when': 2,\n",
       " 'an': 1,\n",
       " 'unknown': 1,\n",
       " 'printer': 1,\n",
       " 'took': 1,\n",
       " 'a': 12,\n",
       " 'galley': 1,\n",
       " 'type': 2,\n",
       " 'scrambled': 1,\n",
       " 'it': 10,\n",
       " 'to': 3,\n",
       " 'make': 1,\n",
       " 'specimen': 1,\n",
       " 'book': 2,\n",
       " 'survived': 1,\n",
       " 'not': 2,\n",
       " 'only': 1,\n",
       " 'five': 1,\n",
       " 'centuries': 1,\n",
       " 'but': 1,\n",
       " 'also': 1,\n",
       " 'leap': 1,\n",
       " 'into': 1,\n",
       " 'electronic': 1,\n",
       " 'remaining': 1,\n",
       " 'essentially': 1,\n",
       " 'unchanged': 1,\n",
       " 'was': 1,\n",
       " 'popularised': 1,\n",
       " 'in': 7,\n",
       " '1960s': 1,\n",
       " 'with': 2,\n",
       " 'release': 1,\n",
       " 'letraset': 1,\n",
       " 'sheets': 1,\n",
       " 'containing': 1,\n",
       " 'passages': 1,\n",
       " 'more': 2,\n",
       " 'recently': 1,\n",
       " 'desktop': 2,\n",
       " 'publishing': 2,\n",
       " 'software': 1,\n",
       " 'like': 3,\n",
       " 'aldus': 1,\n",
       " 'pagemaker': 1,\n",
       " 'including': 1,\n",
       " 'versions': 2,\n",
       " 'why': 1,\n",
       " 'do': 1,\n",
       " 'we': 1,\n",
       " 'use': 2,\n",
       " 'long': 1,\n",
       " 'established': 1,\n",
       " 'fact': 1,\n",
       " 'that': 2,\n",
       " 'reader': 1,\n",
       " 'will': 2,\n",
       " 'be': 1,\n",
       " 'distracted': 1,\n",
       " 'by': 3,\n",
       " 'readable': 2,\n",
       " 'content': 3,\n",
       " 'page': 2,\n",
       " 'looking': 1,\n",
       " 'at': 2,\n",
       " 'its': 1,\n",
       " 'layout': 1,\n",
       " 'point': 1,\n",
       " 'using': 2,\n",
       " 'moreorless': 1,\n",
       " 'normal': 1,\n",
       " 'distribution': 1,\n",
       " 'letters': 1,\n",
       " 'as': 2,\n",
       " 'opposed': 1,\n",
       " 'here': 2,\n",
       " 'making': 2,\n",
       " 'look': 1,\n",
       " 'english': 1,\n",
       " 'many': 2,\n",
       " 'packages': 1,\n",
       " 'web': 2,\n",
       " 'editors': 1,\n",
       " 'now': 1,\n",
       " 'their': 2,\n",
       " 'default': 1,\n",
       " 'model': 1,\n",
       " 'search': 1,\n",
       " 'for': 1,\n",
       " 'uncover': 1,\n",
       " 'sites': 1,\n",
       " 'still': 1,\n",
       " 'infancy': 1,\n",
       " 'various': 1,\n",
       " 'have': 1,\n",
       " 'evolved': 1,\n",
       " 'over': 2,\n",
       " 'years': 2,\n",
       " 'sometimes': 2,\n",
       " 'accident': 1,\n",
       " 'on': 2,\n",
       " 'purpose': 1,\n",
       " 'injected': 1,\n",
       " 'humour': 1,\n",
       " 'where': 1,\n",
       " 'does': 1,\n",
       " 'come': 1,\n",
       " 'from': 5,\n",
       " 'contrary': 1,\n",
       " 'popular': 2,\n",
       " 'belief': 1,\n",
       " 'random': 1,\n",
       " 'roots': 1,\n",
       " 'piece': 1,\n",
       " 'classical': 2,\n",
       " 'latin': 3,\n",
       " 'literature': 2,\n",
       " '45': 2,\n",
       " 'bc': 2,\n",
       " '2000': 1,\n",
       " 'old': 1,\n",
       " 'richard': 1,\n",
       " 'mcclintock': 1,\n",
       " 'professor': 1,\n",
       " 'hampdensydney': 1,\n",
       " 'college': 1,\n",
       " 'virginia': 1,\n",
       " 'looked': 1,\n",
       " 'up': 1,\n",
       " 'one': 1,\n",
       " 'obscure': 1,\n",
       " 'words': 1,\n",
       " 'consectetur': 1,\n",
       " 'passage': 1,\n",
       " 'going': 1,\n",
       " 'through': 1,\n",
       " 'cites': 1,\n",
       " 'word': 1,\n",
       " 'discovered': 1,\n",
       " 'undoubtable': 1,\n",
       " 'source': 1,\n",
       " 'comes': 2,\n",
       " 'sections': 1,\n",
       " '11032': 2,\n",
       " '11033': 1,\n",
       " 'de': 1,\n",
       " 'finibus': 1,\n",
       " 'bonorum': 1,\n",
       " 'et': 1,\n",
       " 'malorum': 1,\n",
       " 'extremes': 1,\n",
       " 'good': 1,\n",
       " 'evil': 1,\n",
       " 'cicero': 1,\n",
       " 'written': 1,\n",
       " 'this': 1,\n",
       " 'treatise': 1,\n",
       " 'theory': 1,\n",
       " 'ethics': 1,\n",
       " 'very': 1,\n",
       " 'during': 1,\n",
       " 'renaissance': 1,\n",
       " 'first': 1,\n",
       " 'line': 2,\n",
       " 'dolor': 1,\n",
       " 'sit': 1,\n",
       " 'amet': 1,\n",
       " 'section': 1}"
      ]
     },
     "execution_count": 31,
     "metadata": {},
     "output_type": "execute_result"
    }
   ],
   "source": [
    "def freq_of_words(file):\n",
    "    with open(file, \"r\") as f:\n",
    "        text = f.read()\n",
    "        text = ''.join(e for e in text if e.isalnum() or e.isspace())\n",
    "        words = text.split()\n",
    "        word_freq = {}\n",
    "        for word in words:\n",
    "            word = word.lower()\n",
    "            if word in word_freq:\n",
    "                word_freq[word] += 1\n",
    "            else:\n",
    "                word_freq[word] = 1\n",
    "        return word_freq\n",
    "\n",
    "freq_of_words('file.txt')"
   ]
  },
  {
   "cell_type": "markdown",
   "id": "dd83a7ca",
   "metadata": {},
   "source": [
    "Task 5\n",
    "\n",
    "Write a Python program to read last n lines of a file"
   ]
  },
  {
   "cell_type": "code",
   "execution_count": 40,
   "id": "5ffd486a",
   "metadata": {},
   "outputs": [
    {
     "name": "stdout",
     "output_type": "stream",
     "text": [
      "It has survived not only five centuries, but also the leap into electronic typesetting, remaining essentially unchanged.\n",
      "It was popularised in the 1960s with the release of Letraset sheets containing Lorem Ipsum passages, and more recently with desktop publishing software like Aldus PageMaker including versions of Lorem Ipsum.\n"
     ]
    }
   ],
   "source": [
    "def read_last_n_lines(file, n):\n",
    "    with open(file, 'r') as f:\n",
    "        text = f.readlines()\n",
    "        \n",
    "    return \"\".join(text[-n:])\n",
    "\n",
    "print(read_last_n_lines(\"file.txt\", 2))"
   ]
  },
  {
   "cell_type": "markdown",
   "id": "cb784ef6",
   "metadata": {},
   "source": [
    "Task 6\n",
    "\n",
    "Finish class work, which you started in class."
   ]
  },
  {
   "cell_type": "code",
   "execution_count": 421,
   "id": "81b06fce",
   "metadata": {},
   "outputs": [],
   "source": [
    "class Company:\n",
    "    def __init__(self, company_name, founded_at, employees_count):\n",
    "        self.company_name = company_name\n",
    "        self.founded_at = founded_at\n",
    "        self.employees_count = employees_count\n",
    "        \n",
    "    def __repr__(self):\n",
    "        return f\"\"\"company name: {self.company_name}, founded at: {self.founded_at}, employees count: {self.employees_count}\"\"\"\n",
    "\n",
    "class Person:\n",
    "    def __init__(self, name, surname, age, gender, address,\n",
    "                 friends: list[Person], job: list[Job]):\n",
    "        self.name = name\n",
    "        self.surname = surname\n",
    "        self.gender = gender\n",
    "        self.age = age\n",
    "        self.address = address\n",
    "        self.friends = []\n",
    "        for fr in friends:\n",
    "            self.add_friend(fr)\n",
    "        self.job = []\n",
    "        for jb in job:\n",
    "            self.add_job(jb)\n",
    "    \n",
    "    def __repr__(self):\n",
    "        return f\"\"\"name: {self.name}, surname: {self.surname}, age: {self.age}, gender: {self.gender}, address: {self.address}\"\"\"\n",
    "    \n",
    "    def add_friend(self, new_friend):\n",
    "        if new_friend not in self.friends:\n",
    "            self.friends.append(new_friend)\n",
    "            if self not in new_friend.friends:\n",
    "                new_friend.add_friend(self)\n",
    "        else:\n",
    "            return f\"\"\"{self.name} and {new_friend.name} are already friends.\"\"\"\n",
    "        \n",
    "    def remove_friend(self, rm_friend):\n",
    "        if rm_friend in self.friends:\n",
    "            self.friends.remove(rm_friend)\n",
    "            if self in rm_friend.friends:\n",
    "                rm_friend.remove_friend(self)\n",
    "        else:\n",
    "            return f\"\"\"{self.name} and {rm_friend.name} are not friends.\"\"\"\n",
    "        \n",
    "    def add_job(self, new_job):\n",
    "        if new_job not in self.job:\n",
    "            self.job.append(new_job)\n",
    "            new_job.company.employees_count += 1\n",
    "        \n",
    "    def remove_job(self, rm_job):\n",
    "        if rm_job in self.job:\n",
    "            self.job.remove(rm_job)\n",
    "            rm_job.company.employees_count -= 1\n",
    "        \n",
    "    def display_job(self, job):\n",
    "        for job in job:\n",
    "            print(job)\n",
    "\n",
    "class Job:\n",
    "    def __init__(self, company: Company, slalry, experience_year, position):\n",
    "        self.company = company\n",
    "        self.slalry = slalry\n",
    "        self.experience_year = experience_year\n",
    "        self.position = position\n",
    "        \n",
    "    def __repr__(self):\n",
    "        return f\"\"\"company: {self.company.company_name}, slalry: {self.slalry}, experience year: {self.experience_year}, position: {self.position}\\n\"\"\"\n",
    "    \n",
    "    def change_salary(self, new_salay):\n",
    "        self.salary = new_salay\n",
    "        \n",
    "    def change_experience_year(self, new_exp_year):\n",
    "        self.experience_year = new_exp_year\n",
    "        \n",
    "    def change_postition(self, new_position):\n",
    "        self.position = new_position\n",
    "\n"
   ]
  },
  {
   "cell_type": "markdown",
   "id": "75607eb6",
   "metadata": {},
   "source": [
    "Some logics\n",
    "\n",
    "When Person add job Company employees count should increase by 1.\n",
    "When Person quit the job Company employees count should decrease by 1.\n",
    "\n",
    "When you Add friend, you will be shown as friend in his friends.\n",
    "When you Remove friend, you will be removed from his friends."
   ]
  },
  {
   "cell_type": "code",
   "execution_count": 422,
   "id": "f1ad1eb7",
   "metadata": {},
   "outputs": [],
   "source": [
    "c1 = Company(\"Pepsi\", 1913, 0)\n",
    "c2 = Company(\"Apple\", 1960, 0)\n",
    "c3 = Company(\"Cola\", 1910, 0)\n",
    "\n",
    "j1 = Job(c1, 5000, 5, \"CTO\")\n",
    "j2 = Job(c1, 3000, 5, \"CMO\")\n",
    "j3 = Job(c1, 8000, 2, \"CEO\")\n",
    "j4 = Job(c2, 9000, 4, \"CTO\")\n",
    "j5 = Job(c2, 4000, 1, \"CEO\")\n",
    "j6 = Job(c3, 10000, 6, \"CEO\")\n",
    "\n",
    "p1 = Person(\"n1\", 'sn1', 18, 'Male', \"add1\", [], [j1,j4])\n",
    "p2 = Person(\"n2\", 'sn2', 18, 'Female', \"add2\", [p1], [j5])\n",
    "p3 = Person(\"n3\", 'sn3', 19, 'Male', \"add3\", [p2], [j2])\n",
    "p4 = Person(\"n4\", 'sn4', 22, 'Female', \"add4\", [p1], [j6])\n",
    "p5 = Person(\"n5\", 'sn5', 29, 'Male', \"add5\", [p3,p2], [])"
   ]
  },
  {
   "cell_type": "code",
   "execution_count": 423,
   "id": "925b2f08",
   "metadata": {},
   "outputs": [
    {
     "data": {
      "text/plain": [
       "[company: Cola, slalry: 10000, experience year: 6, position: CEO]"
      ]
     },
     "execution_count": 423,
     "metadata": {},
     "output_type": "execute_result"
    }
   ],
   "source": [
    "p4.job"
   ]
  },
  {
   "cell_type": "code",
   "execution_count": 424,
   "id": "87993860",
   "metadata": {},
   "outputs": [
    {
     "data": {
      "text/plain": [
       "2"
      ]
     },
     "execution_count": 424,
     "metadata": {},
     "output_type": "execute_result"
    }
   ],
   "source": [
    "c2.employees_count"
   ]
  },
  {
   "cell_type": "code",
   "execution_count": 425,
   "id": "de026077",
   "metadata": {},
   "outputs": [
    {
     "data": {
      "text/plain": [
       "[company: Pepsi, slalry: 5000, experience year: 5, position: CTO,\n",
       " company: Apple, slalry: 9000, experience year: 4, position: CTO]"
      ]
     },
     "execution_count": 425,
     "metadata": {},
     "output_type": "execute_result"
    }
   ],
   "source": [
    "p1.job"
   ]
  },
  {
   "cell_type": "code",
   "execution_count": 426,
   "id": "c4e7fa22",
   "metadata": {},
   "outputs": [
    {
     "data": {
      "text/plain": [
       "[name: n2, surname: sn2, age: 18, gender: Female, address: add2,\n",
       " name: n4, surname: sn4, age: 22, gender: Female, address: add4]"
      ]
     },
     "execution_count": 426,
     "metadata": {},
     "output_type": "execute_result"
    }
   ],
   "source": [
    "p1.friends"
   ]
  },
  {
   "cell_type": "markdown",
   "id": "94c69993",
   "metadata": {},
   "source": [
    "Task 7\n",
    "\n",
    "Write this classes.\n",
    "\n",
    "Class - Date, Time"
   ]
  },
  {
   "cell_type": "code",
   "execution_count": 2,
   "id": "097b5f1f",
   "metadata": {},
   "outputs": [],
   "source": [
    "class Date:\n",
    "    def __init__(self, year, month, day):\n",
    "        self.year = year\n",
    "        self.month = month\n",
    "        self.day = day\n",
    "\n",
    "    def __repr__(self):\n",
    "        return f\"{self.day}.{self.month}.{self.year}\"\n",
    "\n",
    "    def add_day(self, days):\n",
    "        self.day += days\n",
    "        while self.day > self.__days_in_month():\n",
    "            self.day -= self.__days_in_month()\n",
    "            self.add_month(1)\n",
    "\n",
    "    def add_month(self, months):\n",
    "        self.month += months\n",
    "        while self.month > 12:\n",
    "            self.month -= 12\n",
    "            self.add_year(1)\n",
    "\n",
    "    def add_year(self, years):\n",
    "        self.year += years\n",
    "        \n",
    "    def __is_leap_year(self):\n",
    "        if self.year % 4 != 0:\n",
    "            return False\n",
    "        elif self.year % 100 != 0:\n",
    "            return True\n",
    "        elif self.year % 400 != 0:\n",
    "            return False\n",
    "        else:\n",
    "            return True\n",
    "        \n",
    "    def __days_in_month(self):\n",
    "        if self.month in [4, 6, 9, 11]:\n",
    "            return 30\n",
    "        elif self.month == 2:\n",
    "            if self.__is_leap_year():\n",
    "                return 29\n",
    "            else:\n",
    "                return 28\n",
    "        else:\n",
    "            return 31"
   ]
  },
  {
   "cell_type": "code",
   "execution_count": 6,
   "id": "51b13a04",
   "metadata": {},
   "outputs": [
    {
     "data": {
      "text/plain": [
       "31.2.2000"
      ]
     },
     "execution_count": 6,
     "metadata": {},
     "output_type": "execute_result"
    }
   ],
   "source": [
    "date = Date(year=2000,month=1,day=31)\n",
    "date.add_month(1)\n",
    "date"
   ]
  },
  {
   "cell_type": "code",
   "execution_count": 4,
   "id": "0fa6cc80",
   "metadata": {},
   "outputs": [],
   "source": []
  },
  {
   "cell_type": "code",
   "execution_count": 5,
   "id": "9510d014",
   "metadata": {},
   "outputs": [
    {
     "data": {
      "text/plain": [
       "31.2.2000"
      ]
     },
     "execution_count": 5,
     "metadata": {},
     "output_type": "execute_result"
    }
   ],
   "source": [
    "# date.add_day(365)\n",
    "date"
   ]
  },
  {
   "cell_type": "code",
   "execution_count": 401,
   "id": "2a64258d",
   "metadata": {},
   "outputs": [],
   "source": [
    "class Time:\n",
    "    def __init__(self, hour=0, minute=0, second=0):\n",
    "        self.hour = hour\n",
    "        self.minute = minute\n",
    "        self.second = second\n",
    "\n",
    "    def __repr__(self):\n",
    "        return f\"{self.hour}h/{self.minute}m/{self.second}s\"\n",
    "\n",
    "    def add_second(self, s):\n",
    "        self.second += s\n",
    "        while self.second >= 60:\n",
    "            self.second -= 60\n",
    "            self.add_minute(1)\n",
    "            \n",
    "    def add_minute(self, m):\n",
    "        self.minute += m\n",
    "        while self.minute >= 60:\n",
    "            self.minute -= 60\n",
    "            self.add_hour(1)\n",
    "\n",
    "    def add_hour(self, h):\n",
    "        self.hour = (self.hour + h) % 24\n",
    "\n",
    "    def sum(self, other):\n",
    "        new_time = Time(self.hour, self.minute, self.second)\n",
    "        new_time.add_second(other.second)\n",
    "        new_time.add_minute(other.minute)\n",
    "        new_time.add_hour(other.hour)\n",
    "        return new_time"
   ]
  },
  {
   "cell_type": "code",
   "execution_count": 418,
   "id": "8a75070e",
   "metadata": {},
   "outputs": [
    {
     "data": {
      "text/plain": [
       "6h/4m/1s"
      ]
     },
     "execution_count": 418,
     "metadata": {},
     "output_type": "execute_result"
    }
   ],
   "source": [
    "t1 = Time(hour=10,minute=23,second=40)\n",
    "t2 = Time(19,40,21)\n",
    "t1.sum(t2)"
   ]
  },
  {
   "cell_type": "code",
   "execution_count": 419,
   "id": "f62e3536",
   "metadata": {},
   "outputs": [
    {
     "data": {
      "text/plain": [
       "12h/23m/40s"
      ]
     },
     "execution_count": 419,
     "metadata": {},
     "output_type": "execute_result"
    }
   ],
   "source": [
    "t1.add_minute(120)\n",
    "t1"
   ]
  },
  {
   "cell_type": "code",
   "execution_count": null,
   "id": "1ee67efa",
   "metadata": {},
   "outputs": [],
   "source": []
  }
 ],
 "metadata": {
  "kernelspec": {
   "display_name": "Python 3 (ipykernel)",
   "language": "python",
   "name": "python3"
  },
  "language_info": {
   "codemirror_mode": {
    "name": "ipython",
    "version": 3
   },
   "file_extension": ".py",
   "mimetype": "text/x-python",
   "name": "python",
   "nbconvert_exporter": "python",
   "pygments_lexer": "ipython3",
   "version": "3.10.9"
  }
 },
 "nbformat": 4,
 "nbformat_minor": 5
}
